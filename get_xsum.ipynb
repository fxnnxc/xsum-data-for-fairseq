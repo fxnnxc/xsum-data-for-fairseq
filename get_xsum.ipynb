{
 "metadata": {
  "language_info": {
   "codemirror_mode": {
    "name": "ipython",
    "version": 3
   },
   "file_extension": ".py",
   "mimetype": "text/x-python",
   "name": "python",
   "nbconvert_exporter": "python",
   "pygments_lexer": "ipython3",
   "version": "3.7.3-final"
  },
  "orig_nbformat": 2,
  "kernelspec": {
   "name": "python3",
   "display_name": "Python 3.7.3 64-bit ('base': conda)",
   "metadata": {
    "interpreter": {
     "hash": "97c4927d2dd4092da33f7f5e61014f38b8666a35b20e9f3a314dcf32156d4386"
    }
   }
  }
 },
 "nbformat": 4,
 "nbformat_minor": 2,
 "cells": [
  {
   "cell_type": "code",
   "execution_count": 1,
   "metadata": {},
   "outputs": [
    {
     "output_type": "stream",
     "name": "stderr",
     "text": [
      "Using custom data configuration default\n",
      "Reusing dataset xsum (/home/bumjin/.cache/huggingface/datasets/xsum/default/1.2.0/f9abaabb5e2b2a1e765c25417264722d31877b34ec34b437c53242f6e5c30d6d)\n"
     ]
    }
   ],
   "source": [
    "from datasets import load_dataset\n",
    "\n",
    "dataset = load_dataset(\"xsum\")\n"
   ]
  },
  {
   "cell_type": "code",
   "execution_count": 2,
   "metadata": {},
   "outputs": [
    {
     "output_type": "execute_result",
     "data": {
      "text/plain": [
       "datasets.dataset_dict.DatasetDict"
      ]
     },
     "metadata": {},
     "execution_count": 2
    }
   ],
   "source": [
    "type(dataset)"
   ]
  },
  {
   "cell_type": "code",
   "execution_count": 3,
   "metadata": {},
   "outputs": [
    {
     "output_type": "execute_result",
     "data": {
      "text/plain": [
       "dict_keys(['train', 'validation', 'test'])"
      ]
     },
     "metadata": {},
     "execution_count": 3
    }
   ],
   "source": [
    "dataset.keys()"
   ]
  },
  {
   "cell_type": "code",
   "execution_count": 7,
   "metadata": {},
   "outputs": [
    {
     "output_type": "execute_result",
     "data": {
      "text/plain": [
       "Dataset({\n",
       "    features: ['document', 'summary', 'id'],\n",
       "    num_rows: 204045\n",
       "})"
      ]
     },
     "metadata": {},
     "execution_count": 7
    }
   ],
   "source": [
    "dataset['train']"
   ]
  },
  {
   "cell_type": "code",
   "execution_count": 14,
   "metadata": {},
   "outputs": [
    {
     "output_type": "stream",
     "name": "stdout",
     "text": [
      "train document train.source\n",
      "<class 'list'>\n",
      "train summary train.target\n",
      "<class 'list'>\n",
      "validation document val.source\n",
      "<class 'list'>\n",
      "validation summary val.target\n",
      "<class 'list'>\n",
      "test document test.source\n",
      "<class 'list'>\n",
      "test summary test.target\n",
      "<class 'list'>\n"
     ]
    }
   ],
   "source": [
    "values = [[\"train\", \"document\", \"train.source\"],\n",
    "          [\"train\", \"summary\", \"train.target\"],\n",
    "          [\"validation\", \"document\", \"val.source\"],\n",
    "          [\"validation\", \"summary\", \"val.target\"],\n",
    "          [\"test\", \"document\", \"test.source\"],\n",
    "          [\"test\", \"summary\", \"test.target\"]]\n",
    "\n",
    "path = \"xsum-large/\"\n",
    "for v1, v2, v3 in values:\n",
    "    with open(path+v3, \"w\") as f:\n",
    "        print(v1,v2,v3)\n",
    "        for line in dataset[v1][v2]:\n",
    "            f.write(line.replace(\"\\n\", \" \")+\"\\n\")"
   ]
  },
  {
   "cell_type": "code",
   "execution_count": 15,
   "metadata": {},
   "outputs": [
    {
     "output_type": "stream",
     "name": "stdout",
     "text": [
      "204045\n204045\n11332\n11332\n11334\n11334\n"
     ]
    }
   ],
   "source": [
    "values = [[\"train\", \"document\", \"train.source\"],\n",
    "          [\"train\", \"summary\", \"train.target\"],\n",
    "          [\"validation\", \"document\", \"val.source\"],\n",
    "          [\"validation\", \"summary\", \"val.target\"],\n",
    "          [\"test\", \"document\", \"test.source\"],\n",
    "          [\"test\", \"summary\", \"test.target\"]]\n",
    "\n",
    "for v1, v2, v3 in values:\n",
    "    print(len(dataset[v1][v2]))"
   ]
  },
  {
   "cell_type": "code",
   "execution_count": 16,
   "metadata": {},
   "outputs": [
    {
     "output_type": "stream",
     "name": "stdout",
     "text": [
      "test.source 11334\n",
      "test.target 11334\n",
      "val.target 11332\n",
      "val.source 11332\n",
      "train.target 204045\n",
      "train.source 204045\n"
     ]
    }
   ],
   "source": [
    "for f in os.listdir(\"xsum-large\"):\n",
    "    print(f, len(open(\"xsum-large/\"+f).readlines()))"
   ]
  },
  {
   "cell_type": "code",
   "execution_count": null,
   "metadata": {},
   "outputs": [],
   "source": []
  }
 ]
}